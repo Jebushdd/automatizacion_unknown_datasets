{
 "cells": [
  {
   "attachments": {},
   "cell_type": "markdown",
   "metadata": {},
   "source": [
    "# Automatizando la descarga de Datasets de @unknown.datasets"
   ]
  },
  {
   "attachments": {},
   "cell_type": "markdown",
   "metadata": {},
   "source": [
    "Este código lo hice con la ayuda de: \n",
    "- ```ChatGPT```\n",
    "- ```YouTube``` [Using BeautifulSoup and Python to navigate an HTML parse tree](https://youtu.be/GWXpWU3d23M)\n",
    "- ```YouTube``` [Python Tutorial: re Module - How to Write and Match Regular Expressions (Regex)](https://youtu.be/K8L6KVGG-7o)\n",
    "- Reciclando un proyecto que hice en 2022. En este [repositorio de GitHub](https://github.com/Jebushdd/Alkemy-challenge-python)"
   ]
  },
  {
   "cell_type": "code",
   "execution_count": 8,
   "metadata": {},
   "outputs": [],
   "source": [
    "# Importamos las librerías\n",
    "from bs4 import BeautifulSoup\n",
    "import requests\n",
    "import re"
   ]
  },
  {
   "cell_type": "code",
   "execution_count": 9,
   "metadata": {},
   "outputs": [],
   "source": [
    "url_unknown_datasets = 'https://linktr.ee/unknow.datasets'"
   ]
  },
  {
   "cell_type": "code",
   "execution_count": 10,
   "metadata": {},
   "outputs": [],
   "source": [
    "r = requests.get(url_unknown_datasets)\n",
    "contenido = r.text\n",
    "soup = BeautifulSoup(contenido,'lxml')"
   ]
  },
  {
   "cell_type": "code",
   "execution_count": 15,
   "metadata": {},
   "outputs": [],
   "source": [
    "clase_html = 'sc-hKgILt sc-eggNIi cxwgnw lbgaqu'\n",
    "titulos = soup.find_all('p', attrs={'class':clase_html})"
   ]
  },
  {
   "cell_type": "code",
   "execution_count": 16,
   "metadata": {},
   "outputs": [
    {
     "data": {
      "text/plain": [
       "[<p class=\"sc-hKgILt sc-eggNIi cxwgnw lbgaqu\">1 - BZRP </p>,\n",
       " <p class=\"sc-hKgILt sc-eggNIi cxwgnw lbgaqu\">2 - CLUBES DE FÚTBOL </p>,\n",
       " <p class=\"sc-hKgILt sc-eggNIi cxwgnw lbgaqu\">3 - LEAGUE OF LEGENDS</p>,\n",
       " <p class=\"sc-hKgILt sc-eggNIi cxwgnw lbgaqu\">4 - MESSI</p>,\n",
       " <p class=\"sc-hKgILt sc-eggNIi cxwgnw lbgaqu\">5 - PAISES DEL MUNDO.xlsx</p>,\n",
       " <p class=\"sc-hKgILt sc-eggNIi cxwgnw lbgaqu\">Mandanos un Cafecito mientras creamos mas Datasets</p>]"
      ]
     },
     "execution_count": 16,
     "metadata": {},
     "output_type": "execute_result"
    }
   ],
   "source": [
    "titulos"
   ]
  },
  {
   "cell_type": "code",
   "execution_count": 26,
   "metadata": {},
   "outputs": [
    {
     "name": "stdout",
     "output_type": "stream",
     "text": [
      "https://cafecito.app/unknowdatasets\n"
     ]
    }
   ],
   "source": [
    "\n",
    "expresion = re.compile(r'.*cafecito.*')\n",
    "atributos = {'href':expresion}\n",
    "elemento_html = soup.find('a', attrs=atributos)\n",
    "link_cafecito = elemento_html['href']"
   ]
  },
  {
   "cell_type": "code",
   "execution_count": 27,
   "metadata": {},
   "outputs": [
    {
     "name": "stdout",
     "output_type": "stream",
     "text": [
      "https://cafecito.app/unknowdatasets no es un dataset\n"
     ]
    }
   ],
   "source": [
    "diccionario = {}\n",
    "for dataset in titulos:\n",
    "    elemento_html = soup.find('p', text=dataset.text)\n",
    "    expresion = re.compile(r'.*docs\\.google\\.com.*')\n",
    "    atributos = {\n",
    "        #'data-testid':'LinkButton',\n",
    "        'href':expresion\n",
    "    }\n",
    "    try:\n",
    "        link_dataset = elemento_html.find_parent('a',attrs=atributos)['href']\n",
    "        diccionario[dataset.text.strip()] = link_dataset\n",
    "    except TypeError:\n",
    "        link_fallido = elemento_html.find_parent('a')['href']\n",
    "        print(f'{link_fallido} no es un dataset')\n",
    "        continue"
   ]
  },
  {
   "cell_type": "code",
   "execution_count": 7,
   "metadata": {},
   "outputs": [
    {
     "data": {
      "text/plain": [
       "{'1 - BZRP': 'https://docs.google.com/spreadsheets/d/1UbZT1DFMF-1J4D0LBCkLMdKpu3RFV3ZX/edit?usp=sharing&ouid=117747322832396099278&rtpof=true&sd=true',\n",
       " '2 - CLUBES DE FÚTBOL': 'https://docs.google.com/spreadsheets/d/1zmv0-qHkOyVHiLaDydi41lQNTgMUXJr7/edit?usp=sharing&ouid=117747322832396099278&rtpof=true&sd=true',\n",
       " '3 - LEAGUE OF LEGENDS': 'https://docs.google.com/spreadsheets/d/135TqQwWsa9ydh_YAylQykByC-rctQ-RR/edit?usp=sharing&ouid=117747322832396099278&rtpof=true&sd=true',\n",
       " '4 - MESSI': 'https://docs.google.com/spreadsheets/d/1-gIKHuCeHybtQiy1SwsVwmP_qx60KZGv/edit?usp=sharing&ouid=117747322832396099278&rtpof=true&sd=true',\n",
       " '5 - PAISES DEL MUNDO.xlsx': 'https://docs.google.com/spreadsheets/d/1JnG6JH7oxiGoltZNNOQcfRP2-baxi8g9/edit?usp=sharing&ouid=117747322832396099278&rtpof=true&sd=true'}"
      ]
     },
     "execution_count": 7,
     "metadata": {},
     "output_type": "execute_result"
    }
   ],
   "source": [
    "diccionario"
   ]
  },
  {
   "cell_type": "code",
   "execution_count": 14,
   "metadata": {},
   "outputs": [
    {
     "name": "stdout",
     "output_type": "stream",
     "text": [
      "1 - BZRP\n",
      "2 - CLUBES DE FÚTBOL\n",
      "3 - LEAGUE OF LEGENDS\n",
      "4 - MESSI\n",
      "5 - PAISES DEL MUNDO\n"
     ]
    }
   ],
   "source": [
    "for dataset in list(diccionario.keys()):\n",
    "    print(dataset.strip('.xlsx'))"
   ]
  },
  {
   "cell_type": "code",
   "execution_count": 16,
   "metadata": {},
   "outputs": [
    {
     "name": "stdout",
     "output_type": "stream",
     "text": [
      "1 - BZRP exportado correctamente\n",
      "2 - CLUBES DE FÚTBOL exportado correctamente\n",
      "3 - LEAGUE OF LEGENDS exportado correctamente\n",
      "4 - MESSI exportado correctamente\n",
      "5 - PAISES DEL MUNDO exportado correctamente\n"
     ]
    }
   ],
   "source": [
    "for dataset in list(diccionario.keys()):\n",
    "    dataset_id = diccionario[dataset].split('/d/')[1].split('/edit')[0]\n",
    "    link_descarga = f'https://docs.google.com/spreadsheets/d/{dataset_id}/export?format=xlsx'\n",
    "    response = requests.get(link_descarga)\n",
    "    if response.status_code == 200:\n",
    "        xlsx_data = response.content\n",
    "        nombre_salida = dataset.strip('.xlsx')\n",
    "        with open(f'{nombre_salida}.xlsx', 'wb') as archivo:\n",
    "            archivo.write(xlsx_data)\n",
    "        print(f'{nombre_salida} exportado correctamente')\n"
   ]
  },
  {
   "attachments": {},
   "cell_type": "markdown",
   "metadata": {},
   "source": [
    "A partir de aquí estamos haciendo exploraciones y pruebas"
   ]
  },
  {
   "cell_type": "code",
   "execution_count": 62,
   "metadata": {},
   "outputs": [
    {
     "data": {
      "text/plain": [
       "'https://docs.google.com/spreadsheets/d/1UbZT1DFMF-1J4D0LBCkLMdKpu3RFV3ZX/edit?usp=sharing&ouid=117747322832396099278&rtpof=true&sd=true'"
      ]
     },
     "execution_count": 62,
     "metadata": {},
     "output_type": "execute_result"
    }
   ],
   "source": [
    "bzrp = diccionario['1 - BZRP']\n",
    "bzrp"
   ]
  },
  {
   "cell_type": "code",
   "execution_count": 66,
   "metadata": {},
   "outputs": [
    {
     "data": {
      "text/plain": [
       "'1UbZT1DFMF-1J4D0LBCkLMdKpu3RFV3ZX'"
      ]
     },
     "execution_count": 66,
     "metadata": {},
     "output_type": "execute_result"
    }
   ],
   "source": [
    "bzrp.split('/d/')[1].split('/edit')[0]"
   ]
  },
  {
   "cell_type": "code",
   "execution_count": 48,
   "metadata": {},
   "outputs": [
    {
     "data": {
      "text/plain": [
       "200"
      ]
     },
     "execution_count": 48,
     "metadata": {},
     "output_type": "execute_result"
    }
   ],
   "source": [
    "response = requests.get(bzrp)\n",
    "response.status_code"
   ]
  },
  {
   "cell_type": "code",
   "execution_count": 36,
   "metadata": {},
   "outputs": [
    {
     "data": {
      "text/plain": [
       "'1.5.2'"
      ]
     },
     "execution_count": 36,
     "metadata": {},
     "output_type": "execute_result"
    }
   ],
   "source": [
    "pd.__version__"
   ]
  },
  {
   "cell_type": "code",
   "execution_count": 49,
   "metadata": {},
   "outputs": [],
   "source": [
    "csv_data = response.content\n",
    "sheets = pd.read_excel(csv_data, sheet_name=None)"
   ]
  },
  {
   "cell_type": "code",
   "execution_count": 61,
   "metadata": {},
   "outputs": [
    {
     "data": {
      "text/html": [
       "<div>\n",
       "<style scoped>\n",
       "    .dataframe tbody tr th:only-of-type {\n",
       "        vertical-align: middle;\n",
       "    }\n",
       "\n",
       "    .dataframe tbody tr th {\n",
       "        vertical-align: top;\n",
       "    }\n",
       "\n",
       "    .dataframe thead th {\n",
       "        text-align: right;\n",
       "    }\n",
       "</style>\n",
       "<table border=\"1\" class=\"dataframe\">\n",
       "  <thead>\n",
       "    <tr style=\"text-align: right;\">\n",
       "      <th></th>\n",
       "      <th>Hola! Si estas leyendo esto es porque accediste al dataset, y comenzaras a crear tu propio analisis</th>\n",
       "    </tr>\n",
       "  </thead>\n",
       "  <tbody>\n",
       "    <tr>\n",
       "      <th>0</th>\n",
       "      <td>Te invito a seguir el proyecto en instagram: @...</td>\n",
       "    </tr>\n",
       "    <tr>\n",
       "      <th>1</th>\n",
       "      <td>Si el proyecto es de tu interes, podes enviarn...</td>\n",
       "    </tr>\n",
       "  </tbody>\n",
       "</table>\n",
       "</div>"
      ],
      "text/plain": [
       "  Hola! Si estas leyendo esto es porque accediste al dataset, y comenzaras a crear tu propio analisis\n",
       "0  Te invito a seguir el proyecto en instagram: @...                                                 \n",
       "1  Si el proyecto es de tu interes, podes enviarn...                                                 "
      ]
     },
     "execution_count": 61,
     "metadata": {},
     "output_type": "execute_result"
    }
   ],
   "source": [
    "pestana1 = list(sheets.keys())[0]\n",
    "sheets[pestana1]"
   ]
  },
  {
   "attachments": {},
   "cell_type": "markdown",
   "metadata": {},
   "source": [
    "Estas son las plantillas de ChatGPT para tomar la url pública"
   ]
  },
  {
   "cell_type": "code",
   "execution_count": null,
   "metadata": {},
   "outputs": [],
   "source": [
    "url = 'https://docs.google.com/spreadsheets/d/<ID>/export?format=xlsx'\n",
    "\n",
    "response = requests.get(url)\n",
    "\n",
    "if response.status_code == 200:\n",
    "    xlsx_data = response.content\n",
    "    sheets = pd.read_excel(xlsx_data, sheet_name=None)\n",
    "    if len(sheets) > 1:\n",
    "        print('El archivo tiene más de una pestaña.')\n",
    "    else:\n",
    "        print('El archivo tiene solo una pestaña.')\n",
    "else:\n",
    "    print('No se pudo descargar el archivo.')\n"
   ]
  },
  {
   "cell_type": "code",
   "execution_count": 7,
   "metadata": {},
   "outputs": [
    {
     "data": {
      "text/plain": [
       "True"
      ]
     },
     "execution_count": 7,
     "metadata": {},
     "output_type": "execute_result"
    }
   ],
   "source": [
    "import webbrowser\n",
    "webbrowser.open('https://linktr.ee/unknow.datasets',autoraise=True)"
   ]
  },
  {
   "cell_type": "code",
   "execution_count": 5,
   "metadata": {},
   "outputs": [],
   "source": [
    "webUrl.begin()"
   ]
  }
 ],
 "metadata": {
  "kernelspec": {
   "display_name": "Python 3",
   "language": "python",
   "name": "python3"
  },
  "language_info": {
   "codemirror_mode": {
    "name": "ipython",
    "version": 3
   },
   "file_extension": ".py",
   "mimetype": "text/x-python",
   "name": "python",
   "nbconvert_exporter": "python",
   "pygments_lexer": "ipython3",
   "version": "3.10.8"
  },
  "orig_nbformat": 4
 },
 "nbformat": 4,
 "nbformat_minor": 2
}
